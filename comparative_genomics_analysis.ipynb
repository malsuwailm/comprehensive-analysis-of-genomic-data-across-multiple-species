{
 "cells": [
  {
   "cell_type": "markdown",
   "metadata": {},
   "source": [
    "Overview of Comparative Genomic Analysis Across Multiple Species\n",
    "Objective:\n",
    "\n",
    "This part of the project focuses on a comparative analysis of genomic characteristics across a diverse range of species, including plants, animals, bacteria, and more.\n",
    "Methodology:\n",
    "\n",
    "- Data Collection: Genomic data files for various species (like TAIR10, ce10, dm6, ecoli, hg38, tomato, wheat, yeast) are collected. Each file contains information about the sizes of chromosomes for the respective species.\n",
    "\n",
    "- Data Processing: Using Python and the Pandas library, the data is processed to extract key genomic metrics. This includes:\n",
    "    - The total genome size.\n",
    "    - The number of chromosomes.\n",
    "    - The size of the largest and smallest chromosomes.\n",
    "    - The mean chromosome length.\n",
    "\n",
    "- Analysis Loop: A function named generate iterates through each genomic data file. It performs calculations to determine the aforementioned metrics and appends the results to corresponding lists for each species.\n",
    "\n",
    "    Data Aggregation: The results are aggregated into a Pandas DataFrame. This DataFrame consolidates the data into a structured format, with columns for species name, genome size, number of chromosomes, largest chromosome, smallest chromosome, and mean chromosome length.\n",
    "\n",
    "Outcome:\n",
    "\n",
    "The result is a comprehensive table that provides a side-by-side comparison of critical genomic attributes across various species. This table serves as a valuable resource for understanding the genomic diversity and complexity in different organisms. It can be used for further analysis in comparative genomics, evolutionary studies, or in the development of species-specific genomic tools and applications.\n",
    "Significance:\n",
    "\n",
    "This comparative analysis enhances our understanding of genomic variations and similarities across different life forms. It lays the groundwork for more detailed genomic studies and can help in identifying unique genomic features relevant to specific species or groups"
   ]
  },
  {
   "cell_type": "code",
   "execution_count": 9,
   "metadata": {
    "collapsed": false,
    "pycharm": {
     "name": "#%%\n"
    }
   },
   "outputs": [
    {
     "data": {
      "text/html": [
       "<div>\n",
       "<style scoped>\n",
       "    .dataframe tbody tr th:only-of-type {\n",
       "        vertical-align: middle;\n",
       "    }\n",
       "\n",
       "    .dataframe tbody tr th {\n",
       "        vertical-align: top;\n",
       "    }\n",
       "\n",
       "    .dataframe thead th {\n",
       "        text-align: right;\n",
       "    }\n",
       "</style>\n",
       "<table border=\"1\" class=\"dataframe\">\n",
       "  <thead>\n",
       "    <tr style=\"text-align: right;\">\n",
       "      <th></th>\n",
       "      <th>Species</th>\n",
       "      <th>Genome Size</th>\n",
       "      <th>Number of Chromosomes</th>\n",
       "      <th>Largest Chromosomes</th>\n",
       "      <th>Smallest Chromosome</th>\n",
       "      <th>Mean Chromosome</th>\n",
       "    </tr>\n",
       "  </thead>\n",
       "  <tbody>\n",
       "    <tr>\n",
       "      <th>0</th>\n",
       "      <td>TAIR10</td>\n",
       "      <td>119146348</td>\n",
       "      <td>5</td>\n",
       "      <td>Chr1</td>\n",
       "      <td>Chr4</td>\n",
       "      <td>23829269</td>\n",
       "    </tr>\n",
       "    <tr>\n",
       "      <th>1</th>\n",
       "      <td>ce10</td>\n",
       "      <td>100286070</td>\n",
       "      <td>7</td>\n",
       "      <td>chrV</td>\n",
       "      <td>chrM</td>\n",
       "      <td>14326581</td>\n",
       "    </tr>\n",
       "    <tr>\n",
       "      <th>2</th>\n",
       "      <td>dm6</td>\n",
       "      <td>137547960</td>\n",
       "      <td>7</td>\n",
       "      <td>chr3R</td>\n",
       "      <td>chr4</td>\n",
       "      <td>19649708</td>\n",
       "    </tr>\n",
       "    <tr>\n",
       "      <th>3</th>\n",
       "      <td>ecoli</td>\n",
       "      <td>4639211</td>\n",
       "      <td>1</td>\n",
       "      <td>Ecoli</td>\n",
       "      <td>Ecoli</td>\n",
       "      <td>4639211</td>\n",
       "    </tr>\n",
       "    <tr>\n",
       "      <th>4</th>\n",
       "      <td>hg38</td>\n",
       "      <td>3088269832</td>\n",
       "      <td>24</td>\n",
       "      <td>chr1</td>\n",
       "      <td>chr21</td>\n",
       "      <td>128677909</td>\n",
       "    </tr>\n",
       "    <tr>\n",
       "      <th>5</th>\n",
       "      <td>tomato</td>\n",
       "      <td>782520033</td>\n",
       "      <td>13</td>\n",
       "      <td>ch01</td>\n",
       "      <td>ch00</td>\n",
       "      <td>60193848</td>\n",
       "    </tr>\n",
       "    <tr>\n",
       "      <th>6</th>\n",
       "      <td>wheat</td>\n",
       "      <td>14547261565</td>\n",
       "      <td>22</td>\n",
       "      <td>3B</td>\n",
       "      <td>6D</td>\n",
       "      <td>661239162</td>\n",
       "    </tr>\n",
       "    <tr>\n",
       "      <th>7</th>\n",
       "      <td>yeast</td>\n",
       "      <td>12157105</td>\n",
       "      <td>17</td>\n",
       "      <td>chrIV</td>\n",
       "      <td>chrM</td>\n",
       "      <td>715123</td>\n",
       "    </tr>\n",
       "  </tbody>\n",
       "</table>\n",
       "</div>"
      ],
      "text/plain": [
       "  Species  Genome Size  Number of Chromosomes Largest Chromosomes  \\\n",
       "0  TAIR10    119146348                      5                Chr1   \n",
       "1    ce10    100286070                      7                chrV   \n",
       "2     dm6    137547960                      7               chr3R   \n",
       "3   ecoli      4639211                      1               Ecoli   \n",
       "4    hg38   3088269832                     24                chr1   \n",
       "5  tomato    782520033                     13               ch01    \n",
       "6   wheat  14547261565                     22                  3B   \n",
       "7   yeast     12157105                     17               chrIV   \n",
       "\n",
       "  Smallest Chromosome  Mean Chromosome  \n",
       "0                Chr4         23829269  \n",
       "1                chrM         14326581  \n",
       "2                chr4         19649708  \n",
       "3               Ecoli          4639211  \n",
       "4               chr21        128677909  \n",
       "5                ch00         60193848  \n",
       "6                  6D        661239162  \n",
       "7                chrM           715123  "
      ]
     },
     "execution_count": 9,
     "metadata": {},
     "output_type": "execute_result"
    }
   ],
   "source": [
    "import pandas as pd\n",
    "\n",
    "genomes = ['TAIR10.chrom.sizes', 'ce10.chrom.sizes', 'dm6.chrom.sizes', 'ecoli.chrom.sizes', 'hg38.chrom.sizes', 'tomato.chrom.sizes', 'wheat.chrom.sizes', 'yeast.chrom.sizes']\n",
    "\n",
    "columns = ['Species', 'Genome Size', '# Chromosomes', 'Largest Chromosome', 'Smalles Chromosome', 'Mean Chromosome']\n",
    "\n",
    "species_list = []\n",
    "genome_size_list = []\n",
    "number_chromosome_list = []\n",
    "largest_chromosome_list = []\n",
    "smallest_chromosome_list = []\n",
    "mean_chromosome_list = []\n",
    "\n",
    "def generate(genomes_):\n",
    "\n",
    "    for g in genomes_:\n",
    "\n",
    "        df = pd.read_csv('data/' + g, sep='\\t', comment='t', header=None)\n",
    "        header = ['Chromosome', 'Size']\n",
    "        df.columns = header[:len(df.columns)]\n",
    "\n",
    "        species = g.split(\".\")\n",
    "        genome_size = df['Size'].sum()\n",
    "        number_chromosomes = len(df.index)\n",
    "        largest_chromosome = df[df.Size == df.Size.max()]\n",
    "        largest_chromosome = largest_chromosome['Chromosome'].iloc[0]\n",
    "        smallest_chromosome = df[df.Size == df.Size.min()]\n",
    "        smallest_chromosome = smallest_chromosome['Chromosome'].iloc[0]\n",
    "        mean_chromosome = int(df[\"Size\"].mean())\n",
    "\n",
    "        species_list.append(species[0])\n",
    "        genome_size_list.append(genome_size)\n",
    "        number_chromosome_list.append(number_chromosomes)\n",
    "        largest_chromosome_list.append(largest_chromosome)\n",
    "        smallest_chromosome_list.append(smallest_chromosome)\n",
    "        mean_chromosome_list.append(mean_chromosome)\n",
    "\n",
    "generate(genomes)\n",
    "\n",
    "df = pd.DataFrame(zip(species_list, genome_size_list, number_chromosome_list, largest_chromosome_list, smallest_chromosome_list, mean_chromosome_list),columns=['Species','Genome Size', 'Number of Chromosomes', 'Largest Chromosomes', 'Smallest Chromosome', 'Mean Chromosome'])\n",
    "\n",
    "df"
   ]
  },
  {
   "cell_type": "markdown",
   "metadata": {
    "collapsed": false,
    "pycharm": {
     "name": "#%% md\n"
    }
   },
   "source": [
    "Overview of Simulating 5x Coverage Sequencing of a 1Mbp Genome\n",
    "\n",
    "This component of the project involves simulating the sequencing of a 1Mbp genome at 5x coverage using 100bp reads. The simulation does not generate actual read sequences; instead, it focuses on randomly sampling positions within the genome to record coverage. The methodology ensures that each read's start position, ranging from 1 to 999,901, is chosen with uniform random probability, accurately representing a realistic sequencing scenario.\n",
    "\n",
    "The coverage data is recorded in an array representing the 1M genomic positions. This process is key to understanding how coverage distributes across the genome. The resulting coverage distribution is then visualized in a histogram. To provide a comparative context, this histogram is overlaid with a Poisson distribution with a lambda value of 5. This overlay offers insights into how well the simulated coverage aligns with theoretical expectations, enhancing our understanding of genome sequencing dynamics.\n",
    "\n"
   ]
  },
  {
   "cell_type": "code",
   "execution_count": 10,
   "metadata": {
    "collapsed": false,
    "pycharm": {
     "name": "#%%\n"
    }
   },
   "outputs": [
    {
     "data": {
      "image/png": "[encoded data removed]",
      "text/plain": [
       "<Figure size 640x480 with 1 Axes>"
      ]
     },
     "metadata": {},
     "output_type": "display_data"
    }
   ],
   "source": [
    "import random\n",
    "from difflib import SequenceMatcher\n",
    "from re import I\n",
    "import numpy as np\n",
    "import matplotlib.pyplot as plt\n",
    "from scipy import stats\n",
    "\n",
    "def similar(a, b):\n",
    "    sim = SequenceMatcher(None, a, b).ratio()\n",
    "    return sim * 1000000\n",
    "\n",
    "#generate reference sequence\n",
    "genome_size = 1000000\n",
    "bases = ['A', 'T', 'C', 'G']\n",
    "ref_seq = [bases[random.randrange(len(bases))] for i in range(genome_size)]\n",
    "ref_seq = ''.join(ref_seq)\n",
    "\n",
    "sample_seq = []\n",
    "coverage = []\n",
    "bp_reads = 500\n",
    "bps = 100\n",
    "\n",
    "#generate sample seqs\n",
    "for n in range(bp_reads):\n",
    "    curr_sample = random.sample(ref_seq, bps) #generate subsample of 100 bps\n",
    "    curr_sample = ''.join(curr_sample) #join into one string\n",
    "    sample_seq.append(curr_sample) #save subsample\n",
    "    coverage.append(similar(curr_sample, ref_seq)) #compare with ref seq and get coverage\n",
    "\n",
    "#plot histogram\n",
    "plt.hist(coverage)\n",
    "plt.xlabel('Coverage %')\n",
    "plt.ylabel('# Sequences')\n",
    "\n",
    "#plot poisson distribution\n",
    "lnspc = np.linspace(0, 10, len(coverage))\n",
    "m, s = stats.norm.fit(coverage)\n",
    "pdf_g = stats.norm.pdf(lnspc, 5, s)\n",
    "plt.plot(lnspc, pdf_g, label=\"Norm\")\n",
    "\n",
    "plt.show()"
   ]
  },
  {
   "cell_type": "markdown",
   "metadata": {
    "collapsed": false,
    "pycharm": {
     "name": "#%% md\n"
    }
   },
   "source": [
    "\n",
    "Around 375 bins of the genome have not been sequenced. The Poisson expectations don't match with the results."
   ]
  },
  {
   "cell_type": "markdown",
   "metadata": {
    "collapsed": false,
    "pycharm": {
     "name": "#%% md\n"
    }
   },
   "source": [
    "Overview of 15x Coverage Sequencing Simulation for a 1Mbp Genome\n",
    "\n",
    "In this part of the project, the focus shifts to simulating the sequencing of a 1Mbp genome at an increased coverage of 15x, using 100bp reads. The approach includes several key steps:\n",
    "\n",
    "1. Simulation of Reads: Based on the parameters, the total data for 15x coverage amounts to 15 Mbp. This translates to generating approximately 1500 reads (15 Mbp divided by 100 bp per read).\n",
    "\n",
    "2. Histogram Creation: The coverage data obtained from the simulation is represented in a histogram. This graphical representation is crucial for visualizing the distribution of sequencing coverage across the genome.\n",
    "\n",
    "3. Poisson Distribution Overlay: To contextualize the coverage data, the histogram is overlaid with a Poisson distribution, with lambda set at 15. This comparison is essential to understand how the actual coverage distribution compares with theoretical expectations.\n",
    "\n",
    "4. Zero Coverage Analysis: A computation of the number of genomic bases that did not receive any coverage (0x coverage) is performed. This analysis is important to identify potential gaps in sequencing.\n",
    "\n",
    "5. Evaluation Against Poisson Expectation: Finally, the observed data is evaluated in the context of Poisson expectations to assess the accuracy and efficacy of the sequencing simulation.\n",
    "\n",
    "Through these steps, the project aims to deepen the understanding of the implications of higher sequencing coverage and its correspondence with theoretical models, highlighting the nuances of genomic sequencing at different depths."
   ]
  },
  {
   "cell_type": "code",
   "execution_count": 11,
   "metadata": {
    "collapsed": false,
    "pycharm": {
     "name": "#%%\n"
    }
   },
   "outputs": [
    {
     "data": {
      "image/png": "[encoded data removed]",
      "text/plain": [
       "<Figure size 640x480 with 1 Axes>"
      ]
     },
     "metadata": {},
     "output_type": "display_data"
    }
   ],
   "source": [
    "samples = []\n",
    "coverage = []\n",
    "bp_reads = 1500\n",
    "bps = 100\n",
    "\n",
    "#generate sample seqs\n",
    "for n in range(bp_reads):\n",
    "    curr_sample = random.sample(ref_seq, bps) #generate subsample of 100 bps\n",
    "    curr_sample = ''.join(curr_sample) #join into one string\n",
    "    sample_seq.append(curr_sample) #save subsample\n",
    "    coverage.append(similar(curr_sample, ref_seq)) #compare with ref seq and get coverage\n",
    "\n",
    "#plot histogram\n",
    "plt.hist(coverage)\n",
    "plt.xlim([0, 10])\n",
    "plt.xlabel('Coverage %')\n",
    "plt.ylabel('# Sequences')\n",
    "\n",
    "#plot poisson distribution\n",
    "lnspc = np.linspace(0, 10, len(coverage))\n",
    "m, s = stats.norm.fit(coverage)\n",
    "pdf_g = stats.norm.pdf(lnspc, 15, s)\n",
    "plt.plot(lnspc, pdf_g, label=\"Norm\")\n",
    "plt.show()"
   ]
  },
  {
   "cell_type": "markdown",
   "metadata": {
    "collapsed": false,
    "pycharm": {
     "name": "#%% md\n"
    }
   },
   "source": [
    "1 Mbp genome\n",
    "0x coverage\n",
    "100bp reads\n",
    "\n",
    "1 Mbp x 0x = 0 Mbp data\n",
    "0 Mbp / 100 bp / read = 0M reads -> 0 reads"
   ]
  },
  {
   "cell_type": "code",
   "execution_count": 12,
   "metadata": {
    "collapsed": false,
    "pycharm": {
     "name": "#%%\n"
    }
   },
   "outputs": [
    {
     "name": "stdout",
     "output_type": "stream",
     "text": [
      "Poisson Expectations: [0.0, 1.9998000199980002, 3.9996000399960003, 5.9994000599940005, 7.999200079992001, 9.99900009999, 17.998200179982003]\n"
     ]
    }
   ],
   "source": [
    "def unique(list1):\n",
    "\n",
    "    list_set = set(list1)\n",
    "    unique_list = (list(list_set))\n",
    "    return unique_list\n",
    "\n",
    "print(f'Poisson Expectations: {unique(coverage)}')"
   ]
  },
  {
   "cell_type": "markdown",
   "metadata": {
    "collapsed": false,
    "pycharm": {
     "name": "#%% md\n"
    }
   },
   "source": [
    "If sequence has 0 bp reads, it matches the Poisson expectations more accurately."
   ]
  },
  {
   "cell_type": "markdown",
   "metadata": {
    "collapsed": false,
    "pycharm": {
     "name": "#%% md\n"
    }
   },
   "source": [
    "Overview of Sequence Content Analysis in a Chromosome\n",
    "\n",
    "This segment of the project focuses on analyzing the sequence content of an entire chromosome, specifically quantifying the occurrences of each nucleotide type. The key objectives include:\n",
    "\n",
    "- Nucleotide Counting: The analysis entails a detailed count of each of the four primary nucleotides - adenine (A), cytosine (C), guanine (G), and thymine (T), along with the unidentified nucleotides denoted as 'N' (unknowns) in the chromosome.\n",
    "\n",
    "- Data Extraction: The nucleotide sequences are extracted from genomic data files, ensuring a comprehensive sweep of the entire chromosome for accurate counting.\n",
    "\n",
    "- Comprehensive Tally: The tally includes every instance of each nucleotide, providing a clear picture of the nucleotide composition within the chromosome.\n",
    "\n",
    "This analysis is crucial for understanding the basic building blocks of the chromosome and forms a foundational part of genomic studies, offering insights into the genetic makeup and potential biological characteristics of the species under study."
   ]
  },
  {
   "cell_type": "code",
   "execution_count": 13,
   "metadata": {
    "collapsed": false,
    "pycharm": {
     "name": "#%%\n"
    }
   },
   "outputs": [
    {
     "name": "stdout",
     "output_type": "stream",
     "text": [
      "Number of As: 10382214\n",
      "Number of Cs: 9160652\n",
      "Number of Gs: 9246186\n",
      "Number of Ts: 10370725\n",
      "Number of Ns: 11658691\n"
     ]
    }
   ],
   "source": [
    "import matplotlib.pyplot as plt\n",
    "\n",
    "result = ''\n",
    "\n",
    "with open('data/chr22.fa') as FileObj:\n",
    "    for lines in FileObj:\n",
    "        result = result + lines\n",
    "\n",
    "\n",
    "result = result.upper()\n",
    "result = result.replace('>CHR22', '')\n",
    "result = ''.join(result.split())\n",
    "\n",
    "\n",
    "As = result.count('A')\n",
    "Cs = result.count('C')\n",
    "Gs = result.count('G')\n",
    "Ts = result.count('T')\n",
    "Ns = result.count('N')\n",
    "\n",
    "\n",
    "print(f'Number of As: {As}')\n",
    "print(f'Number of Cs: {Cs}')\n",
    "print(f'Number of Gs: {Gs}')\n",
    "print(f'Number of Ts: {Ts}')\n",
    "print(f'Number of Ns: {Ns}')"
   ]
  },
  {
   "cell_type": "markdown",
   "metadata": {
    "collapsed": false,
    "pycharm": {
     "name": "#%% md\n"
    }
   },
   "source": [
    "Overview of Chromosome Binning and GC Content Analysis\n",
    "Analysis of Bins Containing 'N' Nucleotides\n",
    "\n",
    "- Objective: To dissect the chromosome into 100 base pair (bp) non-overlapping windows, often referred to as bins, and determine how many of these bins contain at least one 'N' nucleotide.\n",
    "\n",
    "- Methodology: The chromosome is systematically divided into segments of 100bp, ensuring that each bin is distinct and non-overlapping. The presence of the 'N' nucleotide, which represents an unknown or unidentified base, is then checked in each bin.\n",
    "\n",
    "- Outcome: The analysis yields a count of the number of bins that have at least one 'N'. This data is vital for understanding the distribution of unidentified nucleotides across the chromosome and can have implications for sequencing quality and genome assembly."
   ]
  },
  {
   "cell_type": "code",
   "execution_count": 14,
   "metadata": {
    "collapsed": false,
    "pycharm": {
     "name": "#%%\n"
    }
   },
   "outputs": [
    {
     "name": "stdout",
     "output_type": "stream",
     "text": [
      "116637 bins contain at least one N\n"
     ]
    }
   ],
   "source": [
    "bins = []\n",
    "for i in range(0, len(result), 100):\n",
    "    bins.append(result[i:i+100])\n",
    "\n",
    "bins_have_N = 0\n",
    "for b in bins:\n",
    "    if 'N' in b:\n",
    "        bins_have_N+=1\n",
    "\n",
    "print(f'{bins_have_N} bins contain at least one N')"
   ]
  },
  {
   "cell_type": "markdown",
   "metadata": {
    "collapsed": false,
    "pycharm": {
     "name": "#%% md\n"
    }
   },
   "source": [
    "Histogram of GC Content in Bins\n",
    "\n",
    "- Objective: To create a histogram representing the percentage of guanine (G) and cytosine (C) bases, commonly known as the GC content, in each bin of the chromosome, excluding bins that contain 'N' nucleotides.\n",
    "- Methodology: After excluding bins with 'N' nucleotides, the GC content is calculated for each remaining bin. This involves determining the proportion of G and C nucleotides in each bin relative to its total length.\n",
    "- Histogram Creation: The histogram plots the number of bins against their respective GC percentages. The x-axis represents the GC content percentage, while the y-axis shows the number of bins with that specific GC content.\n",
    "- Significance: This histogram provides insights into the variability of GC content across the chromosome. The GC content is a critical factor in genomic studies, affecting the structural properties of DNA and having implications for gene expression and stability."
   ]
  },
  {
   "cell_type": "code",
   "execution_count": 15,
   "metadata": {
    "collapsed": false,
    "pycharm": {
     "name": "#%%\n"
    }
   },
   "outputs": [
    {
     "data": {
      "image/png": "[encoded data removed]",
      "text/plain": [
       "<Figure size 1000x700 with 1 Axes>"
      ]
     },
     "metadata": {},
     "output_type": "display_data"
    }
   ],
   "source": [
    "result_without_N = result.replace('N', '')\n",
    "bins_without_N = []\n",
    "for i in range(0, len(result_without_N), 100):\n",
    "    bins_without_N.append(result_without_N[i:i+100])\n",
    "\n",
    "GC_percentage = []\n",
    "for b in bins_without_N:\n",
    "    GC_percentage.append((int(b.count('G')) + int(b.count('C'))))\n",
    "\n",
    "fig, axs = plt.subplots(1, 1,\n",
    "                        figsize =(10, 7),\n",
    "                        tight_layout = True)\n",
    "\n",
    "axs.hist(GC_percentage, bins = 100)\n",
    "plt.xlabel('GC%')\n",
    "plt.ylabel('Bins')\n",
    "plt.show()"
   ]
  },
  {
   "cell_type": "markdown",
   "metadata": {
    "collapsed": false,
    "pycharm": {
     "name": "#%% md\n"
    }
   },
   "source": [
    "![](3.3.png)\n",
    "\n",
    "5250 bins are below 30% and 3750 bins are above 65%, without containing any Ns, about 9000 bins are expected to sequence poorly."
   ]
  },
  {
   "cell_type": "markdown",
   "metadata": {
    "collapsed": false,
    "pycharm": {
     "name": "#%% md\n"
    }
   },
   "source": [
    "Overview of Extrapolating Sequencing Quality from Chromosome 22 to the Entire Human Genome\n",
    "Objective:\n",
    "\n",
    "The aim of this analysis is to estimate the number of bases in the entire human genome that are likely to be sequenced poorly, based on the sequence composition and sequencing results obtained from chromosome 22.\n",
    "Methodology:\n",
    "\n",
    "- Analysis of Chromosome 22: Initially, the sequencing quality of chromosome 22 is assessed, particularly focusing on regions that are difficult to sequence. This includes identifying areas with high concentrations of 'N' nucleotides or regions with extreme GC content, as these factors can affect sequencing fidelity.\n",
    "\n",
    "- Extrapolation to the Entire Genome: The findings from chromosome 22 are then extrapolated to the entire human genome. The total genome size, computed in an earlier part of the project, serves as the basis for this extrapolation.\n",
    "\n",
    "- Calculation of Poorly Sequenced Bases: By applying the proportion of poorly sequenced bases in chromosome 22 to the entire genome size, an estimate is made of the total number of bases in the human genome that could be sequenced poorly.\n",
    "\n",
    "Significance:\n",
    "\n",
    "This extrapolation is crucial for understanding the broader implications of genomic sequencing across the human genome. It helps in identifying potential challenges in sequencing efforts and can guide strategies for improving sequencing technologies and methods. The analysis provides a realistic view of the limitations of current sequencing capabilities, highlighting areas that might need more focused attention for accurate genomic analysis."
   ]
  },
  {
   "cell_type": "code",
   "execution_count": 16,
   "metadata": {
    "collapsed": false,
    "pycharm": {
     "name": "#%%\n"
    }
   },
   "outputs": [
    {
     "data": {
      "image/png": "[encoded data removed]",
      "text/plain": [
       "<Figure size 1000x700 with 1 Axes>"
      ]
     },
     "metadata": {},
     "output_type": "display_data"
    }
   ],
   "source": [
    "def extrapolate_seq(refseq_, seq_):\n",
    "    rn = seq_ * (int(refseq_/len(seq_))) #multiply sequence to extrapolate\n",
    "    rn_remain = rn[:refseq_ - len(rn)] #add remainder to sequence\n",
    "    rn = rn + rn_remain\n",
    "    return rn\n",
    "\n",
    "human_genome = 3088269832\n",
    "new_seq = extrapolate_seq(human_genome, result_without_N)\n",
    "\n",
    "new_bins = []\n",
    "for i in range(0, len(new_seq), 100):\n",
    "    new_bins.append(new_seq[i:i+100])\n",
    "\n",
    "new_gc = []\n",
    "for b in new_bins:\n",
    "    new_gc.append((int(b.count('G')) + int(b.count('C'))))\n",
    "\n",
    "fig, axs = plt.subplots(1, 1,\n",
    "                        figsize =(10, 7),\n",
    "                        tight_layout = True)\n",
    "\n",
    "axs.hist(new_gc, bins = 100)\n",
    "plt.xlabel('GC%')\n",
    "plt.ylabel('Bins')\n",
    "plt.show()"
   ]
  },
  {
   "cell_type": "markdown",
   "metadata": {
    "collapsed": false,
    "pycharm": {
     "name": "#%% md\n"
    }
   },
   "source": [
    "![](3.5.png)\n",
    "\n",
    "500,000 bins are below 30% and 200,250 bins are above 65%, without containing any Ns, about 700,250 bins are expected to sequence poorly."
   ]
  }
 ],
 "metadata": {
  "kernelspec": {
   "display_name": "Python 3.10.4 ('genomics')",
   "language": "python",
   "name": "python3"
  },
  "language_info": {
   "codemirror_mode": {
    "name": "ipython",
    "version": 3
   },
   "file_extension": ".py",
   "mimetype": "text/x-python",
   "name": "python",
   "nbconvert_exporter": "python",
   "pygments_lexer": "ipython3",
   "version": "3.10.4"
  },
  "vscode": {
   "interpreter": {
    "hash": "1834ae954437091e6777798fdc5522090d48074fd406e5fef46505c43dc15cd3"
   }
  }
 },
 "nbformat": 4,
 "nbformat_minor": 0
}
